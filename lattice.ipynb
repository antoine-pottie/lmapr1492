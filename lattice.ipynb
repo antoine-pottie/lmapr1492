{
 "cells": [
  {
   "cell_type": "markdown",
   "id": "5b57e294",
   "metadata": {},
   "source": [
    "## Tâche 4\n",
    "Ce notebook vise à récupérer quelques informations de base du cristal Ca2NCl. Ci-dessous, on retrouve comme information : les vecteurs de bases des réseaux directs et réciproques, le type de maille, le système cristallin et le groupe ponctuel du Ca2NCl"
   ]
  },
  {
   "cell_type": "code",
   "execution_count": 14,
   "id": "6cae7617",
   "metadata": {},
   "outputs": [],
   "source": [
    "from pymatgen.symmetry.analyzer import SpacegroupAnalyzer\n",
    "from mp_api.client import MPRester"
   ]
  },
  {
   "cell_type": "markdown",
   "id": "d701f97b",
   "metadata": {},
   "source": [
    "# Récupération des informations :\n",
    "    "
   ]
  },
  {
   "cell_type": "code",
   "execution_count": 15,
   "id": "10467a59",
   "metadata": {},
   "outputs": [],
   "source": [
    "mp_key = \"laRpenx9s6Ae6IiAe8AHZRRyzI5fduqF\"\n",
    "mp_id = \"mp-22936\""
   ]
  },
  {
   "cell_type": "code",
   "execution_count": 16,
   "id": "3a39fd4c",
   "metadata": {},
   "outputs": [
    {
     "data": {
      "application/vnd.jupyter.widget-view+json": {
       "model_id": "57d2971f8be246e7944bd669c34230b3",
       "version_major": 2,
       "version_minor": 0
      },
      "text/plain": [
       "Retrieving MaterialsDoc documents:   0%|          | 0/1 [00:00<?, ?it/s]"
      ]
     },
     "metadata": {},
     "output_type": "display_data"
    }
   ],
   "source": [
    "with MPRester(mp_key) as m:\n",
    "    prim_struc = m.get_structure_by_material_id(mp_id)\n",
    "    \n",
    "    \n"
   ]
  },
  {
   "cell_type": "markdown",
   "id": "ae8b5276",
   "metadata": {},
   "source": [
    "# Les vecteurs de bases des réseaux directs et réciproques "
   ]
  },
  {
   "cell_type": "code",
   "execution_count": 17,
   "id": "49f34e62",
   "metadata": {},
   "outputs": [
    {
     "name": "stdout",
     "output_type": "stream",
     "text": [
      "Les vecteurs de bases du réseau direct sont:\n",
      "a =  [3.53131306e+00 2.87388000e-03 5.93516404e+00]\n",
      "b =  [1.6343245  3.13036126 5.93516404]\n",
      "c =  [4.73767000e-03 2.87389000e-03 6.90625177e+00]\n",
      " \n",
      "Les vecteurs de bases du réseau réciproque sont:\n",
      "a =  [ 1.78143753e+00 -9.28482942e-01 -8.35692864e-04]\n",
      "b =  [-2.30141202e-04  2.00888060e+00 -8.35795122e-04]\n",
      "c =  [-1.53075191 -0.928483    0.91121871]\n"
     ]
    }
   ],
   "source": [
    "lattice = prim_struc.lattice\n",
    "print(\"Les vecteurs de bases du réseau direct sont:\")\n",
    "print(\"a = \",lattice.matrix[0])\n",
    "print(\"b = \",lattice.matrix[1])\n",
    "print(\"c = \",lattice.matrix[2])\n",
    "print(\" \")\n",
    "reci_lattice = prim_struc.lattice.reciprocal_lattice\n",
    "print(\"Les vecteurs de bases du réseau réciproque sont:\")\n",
    "print(\"a = \",reci_lattice.matrix[0])\n",
    "print(\"b = \",reci_lattice.matrix[1])\n",
    "print(\"c = \",reci_lattice.matrix[2])"
   ]
  },
  {
   "cell_type": "markdown",
   "id": "b9a28297",
   "metadata": {},
   "source": [
    "# Type de maille et système cristallin "
   ]
  },
  {
   "cell_type": "code",
   "execution_count": 18,
   "id": "65da5760",
   "metadata": {},
   "outputs": [
    {
     "name": "stdout",
     "output_type": "stream",
     "text": [
      "la maille est de type : R\n",
      "le système cristallin est de type :  trigonal\n"
     ]
    }
   ],
   "source": [
    "n = SpacegroupAnalyzer(prim_struc).get_space_group_symbol()[0]\n",
    "print(\"la maille est de type :\", n)\n",
    "\n",
    "syst_cristallin = SpacegroupAnalyzer(prim_struc).get_crystal_system()\n",
    "print(\"le système cristallin est de type : \", syst_cristallin)"
   ]
  },
  {
   "cell_type": "markdown",
   "id": "f63bca90",
   "metadata": {},
   "source": [
    "# Groupe ponctuel"
   ]
  },
  {
   "cell_type": "code",
   "execution_count": 19,
   "id": "db13cb7c",
   "metadata": {},
   "outputs": [
    {
     "name": "stdout",
     "output_type": "stream",
     "text": [
      "Le groupe ponctuel est de type :  -3m\n"
     ]
    }
   ],
   "source": [
    "groupe_ponctuel = SpacegroupAnalyzer(prim_struc).get_point_group_symbol()\n",
    "print(\"Le groupe ponctuel est de type : \", groupe_ponctuel)"
   ]
  },
  {
   "cell_type": "markdown",
   "id": "b1657968",
   "metadata": {},
   "source": [
    "# Conclusion\n",
    "Le cristal a un groupe spatial de type R$\\overset{-}{3}$m.\n",
    "\n",
    "Il possède un plan miroir et un axe de roto-inversion d'ordre 3 \n",
    "\n",
    "Le système cristallin est trigonal et est donc caractérisé par trois longueurs égales et trois angles égaux mais différents de 90°. La norme des vecteurs de bases doit être la même pour tous les vecteurs de bases. Ce qui est bien le cas."
   ]
  },
  {
   "cell_type": "code",
   "execution_count": 20,
   "id": "fdba6379",
   "metadata": {},
   "outputs": [
    {
     "name": "stdout",
     "output_type": "stream",
     "text": [
      "La norme exprimée en angström des vecteurs de base du réseau direct sont:\n",
      "a =  6.906254583247127\n",
      "b =  6.906254438631563\n",
      "c =  6.906253992968177\n",
      "les longueurs sont bien égales\n"
     ]
    }
   ],
   "source": [
    "print(\"La norme exprimée en angström des vecteurs de base du réseau direct sont:\")\n",
    "print(\"a = \",lattice.a)\n",
    "print(\"b = \",lattice.b)\n",
    "print(\"c = \",lattice.c)\n",
    "print(\"les longueurs sont bien égales\")"
   ]
  }
 ],
 "metadata": {
  "kernelspec": {
   "display_name": "Python 3 (ipykernel)",
   "language": "python",
   "name": "python3"
  },
  "language_info": {
   "codemirror_mode": {
    "name": "ipython",
    "version": 3
   },
   "file_extension": ".py",
   "mimetype": "text/x-python",
   "name": "python",
   "nbconvert_exporter": "python",
   "pygments_lexer": "ipython3",
   "version": "3.9.13"
  }
 },
 "nbformat": 4,
 "nbformat_minor": 5
}
