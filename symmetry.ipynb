{
 "cells": [
  {
   "cell_type": "markdown",
   "id": "8ccd0392",
   "metadata": {},
   "source": [
    "# Tâche 5\n",
    "Ce notebook jupyter développe l'effet de 3 éléments de symétrie différents chacun pour un atome différent de la molécule CaN2Cl. Il y sera développé donc l'effet d'un élément de symétrie appliqué à un atome de calcium, d'un élément de symétrie appliqué à un atome d'azote et d'un élément de symétrie appliqué à un atome de chlore."
   ]
  },
  {
   "cell_type": "code",
   "execution_count": 13,
   "id": "d33e8621",
   "metadata": {},
   "outputs": [],
   "source": [
    "from mp_api.client import MPRester\n",
    "from pymatgen.symmetry.analyzer import SpacegroupAnalyzer\n",
    "from jupyter_jsmol.pymatgen import quick_view"
   ]
  },
  {
   "cell_type": "code",
   "execution_count": 14,
   "id": "65f36f78",
   "metadata": {},
   "outputs": [],
   "source": [
    "mp_key = \"laRpenx9s6Ae6IiAe8AHZRRyzI5fduqF\"\n",
    "mp_id = \"mp-22936\""
   ]
  },
  {
   "cell_type": "code",
   "execution_count": 15,
   "id": "f31a7a0c",
   "metadata": {},
   "outputs": [
    {
     "data": {
      "application/vnd.jupyter.widget-view+json": {
       "model_id": "579394b100554a06aecfc6bdcbc9ce70",
       "version_major": 2,
       "version_minor": 0
      },
      "text/plain": [
       "Retrieving MaterialsDoc documents:   0%|          | 0/1 [00:00<?, ?it/s]"
      ]
     },
     "metadata": {},
     "output_type": "display_data"
    }
   ],
   "source": [
    "with MPRester(mp_key) as m:\n",
    "    prim_struc = m.get_structure_by_material_id(mp_id)\n",
    "\n",
    "conv_struc = SpacegroupAnalyzer(prim_struc).get_conventional_standard_structure()\n",
    "symmops = SpacegroupAnalyzer(conv_struc).get_space_group_operations()\n",
    "sites = conv_struc.sites\n"
   ]
  },
  {
   "cell_type": "code",
   "execution_count": 16,
   "id": "8adbdcd5",
   "metadata": {},
   "outputs": [
    {
     "data": {
      "application/vnd.jupyter.widget-view+json": {
       "model_id": "7721187a2766469994562b2cf590dc0f",
       "version_major": 2,
       "version_minor": 0
      },
      "text/plain": [
       "JsmolView(layout=Layout(align_self='stretch', height='400px'))"
      ]
     },
     "metadata": {},
     "output_type": "display_data"
    }
   ],
   "source": [
    "view = quick_view(conv_struc)\n",
    "display(view)\n",
    "view.script('select calcium ; color  gold')\n",
    "view.script('select nitrogen ; color red')\n",
    "view.script('select chlorine ; color palegreen')\n",
    "\n"
   ]
  },
  {
   "cell_type": "markdown",
   "id": "637824ac",
   "metadata": {},
   "source": [
    "Sur cette représentation de la structure cristalline du Ca2NCl, on peut voir les sites où l'on retrouve un atome. En couleur or, les sites où se trouvent les atomes de calcium, en rouge les atomes d'azote et en vert clair, les atomes de chlore"
   ]
  },
  {
   "cell_type": "markdown",
   "id": "f5d5f930",
   "metadata": {},
   "source": [
    "Ci-après est affiché les sites (les positions des atomes dans la structure cristalline) pour chaque site, il est précisé l'atome présent à cette position, les coordonnées cartésiennes et les coordonnées réduites (exprimées par rapport aux vecteurs de base)."
   ]
  },
  {
   "cell_type": "code",
   "execution_count": 17,
   "id": "ab7032a2",
   "metadata": {},
   "outputs": [
    {
     "name": "stdout",
     "output_type": "stream",
     "text": [
      "[PeriodicSite: Ca (1.829, -1.056, 2.061) [0.6667, 0.3333, 0.1045], PeriodicSite: Ca (0.0, 0.0, 4.515) [0.0, 0.0, 0.2289], PeriodicSite: Ca (1.829, 1.056, 8.636) [0.3333, 0.6667, 0.4378], PeriodicSite: Ca (1.829, -1.056, 11.09) [0.6667, 0.3333, 0.5622], PeriodicSite: Ca (0.0, 0.0, 15.21) [0.0, 0.0, 0.7711], PeriodicSite: Ca (1.829, 1.056, 17.67) [0.3333, 0.6667, 0.8955], PeriodicSite: N (1.829, 1.056, 3.288) [0.3333, 0.6667, 0.1667], PeriodicSite: N (3.658, -4.441e-16, 9.863) [1.0, 1.0, 0.5], PeriodicSite: N (1.829, -1.056, 16.44) [0.6667, 0.3333, 0.8333], PeriodicSite: Cl (0.0, 0.0, 0.0) [0.0, 0.0, 0.0], PeriodicSite: Cl (1.829, -1.056, 6.575) [0.6667, 0.3333, 0.3333], PeriodicSite: Cl (1.829, 1.056, 13.15) [0.3333, 0.6667, 0.6667]]\n"
     ]
    }
   ],
   "source": [
    "print(sites)"
   ]
  },
  {
   "cell_type": "markdown",
   "id": "985ff22c",
   "metadata": {},
   "source": [
    "# Symétrie1\n",
    "Pour cette première symétrie, prenons un atome de calcium (Ca) par exemple  celui situé en  [0.6667, 0.3333, 0.1045]  exprimé en coordonnées réduites et appliquons une opération de symétrie autre que l'unité :"
   ]
  },
  {
   "cell_type": "code",
   "execution_count": 18,
   "id": "a28d7dd4",
   "metadata": {},
   "outputs": [
    {
     "name": "stdout",
     "output_type": "stream",
     "text": [
      "opération de symétrie\n",
      "Rot:\n",
      "[[-1.  0.  0.]\n",
      " [ 0. -1.  0.]\n",
      " [ 0.  0. -1.]]\n",
      "tau\n",
      "[0. 0. 0.]\n",
      "Position de l'atome de calcium avant symétrie: [0.66666667 0.33333333 0.10445975]\n",
      "Position de l'atome de calcium après symétrie: [-0.66666667 -0.33333333 -0.10445975]\n"
     ]
    },
    {
     "data": {
      "application/vnd.jupyter.widget-view+json": {
       "model_id": "bc088b0b64b74a6abf10ca846c89bde1",
       "version_major": 2,
       "version_minor": 0
      },
      "text/plain": [
       "JsmolView(layout=Layout(align_self='stretch', height='400px'))"
      ]
     },
     "metadata": {},
     "output_type": "display_data"
    }
   ],
   "source": [
    "calc = sites[0]\n",
    "operation1 = symmops[1]\n",
    "\n",
    "print(\"opération de symétrie\")\n",
    "print(symmops[1])\n",
    "\n",
    "pos_initial_1 = calc.frac_coords\n",
    "pos_final_1 = operation1.operate(pos_initial_1)\n",
    "\n",
    "print(\"Position de l'atome de calcium avant symétrie:\",pos_initial_1)\n",
    "print(\"Position de l'atome de calcium après symétrie:\",pos_final_1)\n",
    "\n",
    "view1 = quick_view(conv_struc)\n",
    "display(view1)\n",
    "\n",
    "view1.script('select calcium ; color  gold')\n",
    "view1.script('select nitrogen ; color red')\n",
    "view1.script('select chlorine ; color palegreen')\n",
    "\n",
    "view1.script('draw SYMOP ' + str(2) + ' {atomno = ' + str(1) + '}')"
   ]
  },
  {
   "cell_type": "markdown",
   "id": "e0fb97a6",
   "metadata": {},
   "source": [
    "### Observation et analyse \n",
    "On observe que le premier élément de symétrie appliqué à un atome de calcium transforme les coordonnées (x,y,z) en coordonnées (-x,-y-z). Il n'y a pas de translation. L'opération de symétrie correspond à une inversion. Cette opération de symétrie peut se représenter via le calcul matriciel suivant :\n",
    "\n",
    "$$\\begin{pmatrix} -1 & 0 & 0 \\\\ 0 & -1 & 0 \\\\ 0 & 0 & -1 \\end{pmatrix}\n",
    "\\begin{pmatrix} \n",
    "x \\\\ \n",
    "y \\\\ \n",
    "z\n",
    "\\end{pmatrix} = \n",
    "\\begin{pmatrix}\n",
    "- x \\\\ \n",
    "- y \\\\ \n",
    "- z\n",
    "\\end{pmatrix}$$\n",
    "\n",
    "C'est une opération de deuxième espèce qui inverse donc la chiralité. Cela se caractérise par un déterminant valant -1 ce qui est bien le cas ici.\n",
    "\n",
    "\n"
   ]
  },
  {
   "cell_type": "markdown",
   "id": "08eda329",
   "metadata": {},
   "source": [
    "# Symétrie 2\n",
    "pour le chlore (Cl), faisons la même chose. On prend par exemple l'atome de chlore situé en [0.33333333 0.66666667 0.66666667] et on lui applique une opération de symétrie. "
   ]
  },
  {
   "cell_type": "code",
   "execution_count": 19,
   "id": "05b21674",
   "metadata": {},
   "outputs": [
    {
     "name": "stdout",
     "output_type": "stream",
     "text": [
      "opération de symétrie\n",
      "Rot:\n",
      "[[ 0. -1.  0.]\n",
      " [-1.  0.  0.]\n",
      " [ 0.  0.  1.]]\n",
      "tau\n",
      "[0. 0. 0.]\n",
      "Position de l'atome de chlore avant symétrie: [0.33333333 0.66666667 0.66666667]\n",
      "Position de l'atome de chlore après symétrie: [-0.66666667 -0.33333333  0.66666667]\n"
     ]
    },
    {
     "data": {
      "application/vnd.jupyter.widget-view+json": {
       "model_id": "6390517ba04042eabb40c2ee76911949",
       "version_major": 2,
       "version_minor": 0
      },
      "text/plain": [
       "JsmolView(layout=Layout(align_self='stretch', height='400px'))"
      ]
     },
     "metadata": {},
     "output_type": "display_data"
    }
   ],
   "source": [
    "cl = sites[11]\n",
    "operation2 = symmops[7]\n",
    "\n",
    "print(\"opération de symétrie\")\n",
    "print(symmops[7])\n",
    "\n",
    "pos_initial_2 = cl.frac_coords\n",
    "pos_final_2 = operation2.operate(pos_initial_2)\n",
    "\n",
    "print(\"Position de l'atome de chlore avant symétrie:\",pos_initial_2)\n",
    "print(\"Position de l'atome de chlore après symétrie:\",pos_final_2)\n",
    "\n",
    "view2 = quick_view(conv_struc)\n",
    "display(view2)\n",
    "view2.script('select calcium ; color  gold')\n",
    "view2.script('select nitrogen ; color red')\n",
    "view2.script('select chlorine ; color palegreen')\n",
    "view2.script('draw SYMOP ' + str(8) + ' {atomno = ' + str(12) + '}')"
   ]
  },
  {
   "cell_type": "markdown",
   "id": "3f8ea3a8",
   "metadata": {},
   "source": [
    "### Observation et analyse\n",
    "On observe que le deuxième élément de symétrie appliqué à un atome de chlore transforme les coordonnées (x,y,z) en coordonnées (-y,-x, z). Cette opération de symétrie correspond à une réflexion. C'est une opération qui inverse la chiralité et donc le déterminant doit valoir -1 ce qui est bien le cas. Cela peut se représenter par le calcul matriciel suivant : \n",
    "\n",
    "$$\\begin{pmatrix} 0 & -1 & 0 \\\\ -1 & 0 & 0 \\\\ 0 & 0 & 1 \\end{pmatrix}\n",
    "\\begin{pmatrix} \n",
    "x \\\\ \n",
    "y \\\\ \n",
    "z\n",
    "\\end{pmatrix} = \n",
    "\\begin{pmatrix}\n",
    " -y \\\\ \n",
    " -x \\\\ \n",
    " z\n",
    "\\end{pmatrix}$$\n",
    "\n",
    "Il n'y a pas de translation. Cela peut s'observer sur la représentation ci-dessus"
   ]
  },
  {
   "cell_type": "markdown",
   "id": "861c5f9d",
   "metadata": {},
   "source": [
    "# Symétrie 3 \n",
    "Pour l'azote (N), on réalise la même chose. on prend par exemple les coordonnées réduites suivantes [0.3333, 0.6667, 0.1667] où il y a un atome d'azote."
   ]
  },
  {
   "cell_type": "code",
   "execution_count": 20,
   "id": "3e68aff1",
   "metadata": {},
   "outputs": [
    {
     "name": "stdout",
     "output_type": "stream",
     "text": [
      "opération de symétrie\n",
      "Rot:\n",
      "[[ 0.  1.  0.]\n",
      " [ 1.  0.  0.]\n",
      " [ 0.  0. -1.]]\n",
      "tau\n",
      "[0. 0. 0.]\n",
      "Position de l'atome d'azote avant symétrie: [0.33333333 0.66666667 0.16666667]\n",
      "Position de l'atome d'azote après symétrie: [ 0.66666667  0.33333333 -0.16666667]\n"
     ]
    },
    {
     "data": {
      "application/vnd.jupyter.widget-view+json": {
       "model_id": "bf9073ee26a049a6bbf60e316879c5e8",
       "version_major": 2,
       "version_minor": 0
      },
      "text/plain": [
       "JsmolView(layout=Layout(align_self='stretch', height='400px'))"
      ]
     },
     "metadata": {},
     "output_type": "display_data"
    }
   ],
   "source": [
    "N = sites[6]\n",
    "operation3 = symmops[6]\n",
    "\n",
    "print(\"opération de symétrie\")\n",
    "print(symmops[6])\n",
    "\n",
    "pos_initial_3 = N.frac_coords\n",
    "pos_final_3 = operation3.operate(pos_initial_3)\n",
    "\n",
    "print(\"Position de l'atome d'azote avant symétrie:\",pos_initial_3)\n",
    "print(\"Position de l'atome d'azote après symétrie:\",pos_final_3)\n",
    "\n",
    "view3 = quick_view(conv_struc)\n",
    "display(view3)\n",
    "view3.script('select calcium ; color  gold')\n",
    "view3.script('select nitrogen ; color red')\n",
    "view3.script('select chlorine ; color palegreen')\n",
    "view3.script('draw SYMOP ' + str(7) + ' {atomno = ' + str(7) + '}')"
   ]
  },
  {
   "cell_type": "markdown",
   "id": "adf5ceae",
   "metadata": {},
   "source": [
    "### Observation et analyse \n",
    "On observe que le troisième élément de symétrie appliqué à un atome d'azote transforme les coordonnées (x,y,z) en coordonnées (y,x,-z). Cette troisième symétrie combine plusieurs choses : d'abord on observe une réflexion par rapport au plan x = y caractérisée par l'échange des coordonnées de x et y. Ensuite, on observe une seconde opération de symétrie, une réflexion par rapport au plan xy ce qui inverse z.Ces opérations de symétrie peuvent être représentées par ce calcul matriciel :\n",
    "$\n",
    "\\begin{pmatrix}\n",
    "0 & 1 & 0 \\\\\n",
    "1 & 0 & 0 \\\\\n",
    "0 & 0 & -1\n",
    "\\end{pmatrix}\n",
    "\\begin{pmatrix}\n",
    "x \\\\\n",
    "y \\\\\n",
    "z\n",
    "\\end{pmatrix}\n",
    "=\n",
    "\\begin{pmatrix}\n",
    "y \\\\\n",
    "x \\\\\n",
    "- z\n",
    "\\end{pmatrix} \n",
    "\n",
    "$$\\begin{pmatrix} 0 & 1 & 0 \\\\ 1 & 0 & 0 \\\\ 0 & 0 & -1 \\end{pmatrix}\n",
    "\\begin{pmatrix} \n",
    "x \\\\ \n",
    "y \\\\ \n",
    "z\n",
    "\\end{pmatrix} = \n",
    "\\begin{pmatrix}\n",
    " y \\\\ \n",
    " x \\\\ \n",
    " -z\n",
    "\\end{pmatrix}$$\n",
    "\n",
    "C'est une opération de première espèce qui conserve la chiralité (déterminant = 1). Il n'y a pas de translation. "
   ]
  }
 ],
 "metadata": {
  "kernelspec": {
   "display_name": "Python 3 (ipykernel)",
   "language": "python",
   "name": "python3"
  },
  "language_info": {
   "codemirror_mode": {
    "name": "ipython",
    "version": 3
   },
   "file_extension": ".py",
   "mimetype": "text/x-python",
   "name": "python",
   "nbconvert_exporter": "python",
   "pygments_lexer": "ipython3",
   "version": "3.9.13"
  }
 },
 "nbformat": 4,
 "nbformat_minor": 5
}
